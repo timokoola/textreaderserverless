{
 "cells": [
  {
   "cell_type": "code",
   "execution_count": 19,
   "metadata": {
    "collapsed": true
   },
   "outputs": [],
   "source": [
    "import numpy as np\n",
    "import matplotlib.pyplot as plt\n",
    "import matplotlib.patches as patches\n",
    "import matplotlib.path as path\n",
    "from typing import NamedTuple\n",
    "import math\n",
    "%matplotlib inline"
   ]
  },
  {
   "cell_type": "code",
   "execution_count": null,
   "metadata": {
    "collapsed": true
   },
   "outputs": [],
   "source": []
  },
  {
   "cell_type": "code",
   "execution_count": 17,
   "metadata": {
    "collapsed": true
   },
   "outputs": [],
   "source": [
    "def basic_length_function(text, index):\n",
    "    return abs((len(text) / 2 - 1) - index) + 1"
   ]
  },
  {
   "cell_type": "code",
   "execution_count": 28,
   "metadata": {
    "collapsed": true
   },
   "outputs": [],
   "source": [
    "def log_length_function(text, index):\n",
    "    diff = (len(text) / 2 - 1) - index\n",
    "    return math.log(abs(diff) +1) +1"
   ]
  },
  {
   "cell_type": "code",
   "execution_count": null,
   "metadata": {
    "collapsed": true
   },
   "outputs": [],
   "source": []
  },
  {
   "cell_type": "code",
   "execution_count": null,
   "metadata": {
    "collapsed": true
   },
   "outputs": [],
   "source": []
  },
  {
   "cell_type": "code",
   "execution_count": null,
   "metadata": {
    "collapsed": true
   },
   "outputs": [],
   "source": []
  },
  {
   "cell_type": "code",
   "execution_count": 34,
   "metadata": {
    "collapsed": true
   },
   "outputs": [],
   "source": [
    "def plot_text(text, len_func):\n",
    "    scores = [base_score(text, x[0], len_func) for x in enumerate(text)]\n",
    "    plt.plot([x for x in range(len(scores))], scores)"
   ]
  },
  {
   "cell_type": "code",
   "execution_count": null,
   "metadata": {
    "collapsed": true
   },
   "outputs": [],
   "source": []
  },
  {
   "cell_type": "code",
   "execution_count": null,
   "metadata": {
    "collapsed": true
   },
   "outputs": [],
   "source": []
  },
  {
   "cell_type": "code",
   "execution_count": null,
   "metadata": {
    "collapsed": true
   },
   "outputs": [],
   "source": []
  },
  {
   "cell_type": "code",
   "execution_count": 36,
   "metadata": {
    "collapsed": true
   },
   "outputs": [],
   "source": [
    "beginning = \"\"\"Stately, plump Buck Mulligan came from the stairhead, bearing a bowl of lather on which a mirror and a razor lay crossed. A yellow dressinggown, ungirdled, was sustained gently behind him on the mild morning air. He held the bowl aloft and intoned:\"\"\""
   ]
  },
  {
   "cell_type": "code",
   "execution_count": null,
   "metadata": {
    "collapsed": true
   },
   "outputs": [],
   "source": []
  },
  {
   "cell_type": "code",
   "execution_count": 39,
   "metadata": {},
   "outputs": [
    {
     "data": {
      "image/png": "[encoded data removed]",
      "text/plain": [
       "<matplotlib.figure.Figure at 0x10677dc88>"
      ]
     },
     "metadata": {},
     "output_type": "display_data"
    }
   ],
   "source": [
    "plot_text(beginning, log_length_function)"
   ]
  },
  {
   "cell_type": "code",
   "execution_count": 40,
   "metadata": {
    "collapsed": true
   },
   "outputs": [],
   "source": [
    "class PivotPoint(NamedTuple):\n",
    "    split_at: int\n",
    "    left_part_length: int\n",
    "    right_part_length: int\n",
    "\n",
    "    @property\n",
    "    def total_length(self):\n",
    "        return self.left_part_length + self.right_part_length\n",
    "\n",
    "\n",
    "def pivot_point(text: str) -> PivotPoint:\n",
    "    \"\"\"Find a place to split string in about two. Preference order:\n",
    "    1. Newlines (score 16)\n",
    "    2. Punctuation that is immediately followed by whitespace (score 8)\n",
    "    3. Other whitespace (score 2)\n",
    "    4. Any other character (score 1)\"\"\"\n",
    "    scores = [base_score(text, x[0], log_length_function) for x in enumerate(text)]\n",
    "    break_at = max([x for x in enumerate(scores)], key=lambda x: x[1])[0]\n",
    "    return PivotPoint(break_at, len(text[:break_at+1]), len(text[break_at+1:]))"
   ]
  },
  {
   "cell_type": "code",
   "execution_count": 41,
   "metadata": {},
   "outputs": [
    {
     "data": {
      "text/plain": [
       "PivotPoint(split_at=121, left_part_length=122, right_part_length=126)"
      ]
     },
     "execution_count": 41,
     "metadata": {},
     "output_type": "execute_result"
    }
   ],
   "source": [
    "pivot_point(beginning)"
   ]
  },
  {
   "cell_type": "code",
   "execution_count": 42,
   "metadata": {},
   "outputs": [
    {
     "data": {
      "text/plain": [
       "'Stately, plump Buck Mulligan came from the stairhead, bearing a bowl of lather on which a mirror and a razor lay crossed. '"
      ]
     },
     "execution_count": 42,
     "metadata": {},
     "output_type": "execute_result"
    }
   ],
   "source": [
    "beginning[:122]"
   ]
  },
  {
   "cell_type": "code",
   "execution_count": null,
   "metadata": {
    "collapsed": true
   },
   "outputs": [],
   "source": []
  },
  {
   "cell_type": "code",
   "execution_count": null,
   "metadata": {
    "collapsed": true
   },
   "outputs": [],
   "source": []
  },
  {
   "cell_type": "code",
   "execution_count": null,
   "metadata": {
    "collapsed": true
   },
   "outputs": [],
   "source": []
  },
  {
   "cell_type": "code",
   "execution_count": null,
   "metadata": {
    "collapsed": true
   },
   "outputs": [],
   "source": []
  },
  {
   "cell_type": "code",
   "execution_count": null,
   "metadata": {
    "collapsed": true
   },
   "outputs": [],
   "source": []
  },
  {
   "cell_type": "code",
   "execution_count": 31,
   "metadata": {
    "collapsed": true
   },
   "outputs": [],
   "source": [
    "def base_score(text: str, index: int, len_func) -> float:\n",
    "    \"\"\"Find a place to split string in two and in about two equal halves. Preference order:\n",
    "    1. Newlines (score 16 / distance to the midpoint)\n",
    "    2. \"!.?\" that is immediately followed by whitespace (score 16/ distance to the midpoint)\n",
    "    3. Other punctuation immediately followed by whitespace (score 8/ distance to the midpoint)\n",
    "    3. Other whitespace (score 2/ distance to the midpoint)\n",
    "    4. Any other character (score 1/ distance to the midpoint)\"\"\"\n",
    "    if 0 <= index < len(text):\n",
    "        cur_char = text[index]\n",
    "        prev_char = text[index - 1] if index - 1 > 0 else \" \"\n",
    "        diff_to_center = len_func(text, index)\n",
    "        if cur_char == \"\\n\":\n",
    "            return 16 / diff_to_center\n",
    "        elif cur_char in string.whitespace and prev_char in \"!?.\":\n",
    "            return 16 / diff_to_center\n",
    "        elif cur_char in string.whitespace and prev_char in string.punctuation:\n",
    "            return 8 / diff_to_center\n",
    "        elif cur_char in string.whitespace:\n",
    "            return 2 / diff_to_center\n",
    "        else:\n",
    "            return 1 / diff_to_center\n",
    "    else:\n",
    "        return -1"
   ]
  },
  {
   "cell_type": "code",
   "execution_count": null,
   "metadata": {
    "collapsed": true
   },
   "outputs": [],
   "source": []
  },
  {
   "cell_type": "code",
   "execution_count": null,
   "metadata": {
    "collapsed": true
   },
   "outputs": [],
   "source": []
  },
  {
   "cell_type": "code",
   "execution_count": null,
   "metadata": {
    "collapsed": true
   },
   "outputs": [],
   "source": []
  },
  {
   "cell_type": "code",
   "execution_count": null,
   "metadata": {
    "collapsed": true
   },
   "outputs": [],
   "source": []
  },
  {
   "cell_type": "code",
   "execution_count": null,
   "metadata": {
    "collapsed": true
   },
   "outputs": [],
   "source": []
  },
  {
   "cell_type": "code",
   "execution_count": null,
   "metadata": {
    "collapsed": true
   },
   "outputs": [],
   "source": []
  }
 ],
 "metadata": {
  "kernelspec": {
   "display_name": "Python 3",
   "language": "python",
   "name": "python3"
  },
  "language_info": {
   "codemirror_mode": {
    "name": "ipython",
    "version": 3
   },
   "file_extension": ".py",
   "mimetype": "text/x-python",
   "name": "python",
   "nbconvert_exporter": "python",
   "pygments_lexer": "ipython3",
   "version": "3.6.1"
  }
 },
 "nbformat": 4,
 "nbformat_minor": 2
}
